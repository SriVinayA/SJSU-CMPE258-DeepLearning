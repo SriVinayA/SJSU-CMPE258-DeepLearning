{
  "nbformat": 4,
  "nbformat_minor": 0,
  "metadata": {
    "colab": {
      "provenance": []
    },
    "kernelspec": {
      "name": "python3",
      "display_name": "Python 3"
    },
    "language_info": {
      "name": "python"
    }
  },
  "cells": [
    {
      "cell_type": "markdown",
      "source": [
        "# Step 1: Define the Model"
      ],
      "metadata": {
        "id": "bOhJvOe73jkJ"
      }
    },
    {
      "cell_type": "code",
      "execution_count": 5,
      "metadata": {
        "id": "4-QfLINs3DdL"
      },
      "outputs": [],
      "source": [
        "import jax\n",
        "import jax.numpy as jnp\n",
        "from flax import linen as nn\n",
        "\n",
        "# Define the neural network model\n",
        "class SimpleNN(nn.Module):\n",
        "    @nn.compact\n",
        "    def __call__(self, x):\n",
        "        x = nn.Dense(10)(x)  # Dense layer with 10 units\n",
        "        x = nn.relu(x)       # ReLU activation function\n",
        "        x = nn.Dense(1)(x)   # Dense layer with 1 unit\n",
        "        return nn.sigmoid(x) # Sigmoid activation function for binary classification\n",
        "\n",
        "# Initialize the model\n",
        "model = SimpleNN()\n",
        "\n",
        "# We will need to initialize the parameters. Flax models require you to specify the input shapes for this.\n",
        "key = jax.random.PRNGKey(0)  # Random key for parameter initialization\n",
        "input_shape = (1, 2)         # Assuming input features have 2 dimensions\n",
        "params = model.init(key, jnp.ones(input_shape))['params']"
      ]
    },
    {
      "cell_type": "markdown",
      "source": [
        "# Step 2: Prepare the Data"
      ],
      "metadata": {
        "id": "k3Krgxqn3mEt"
      }
    },
    {
      "cell_type": "code",
      "source": [
        "from sklearn.datasets import make_circles\n",
        "from sklearn.model_selection import train_test_split\n",
        "\n",
        "# Generate the dataset using sklearn\n",
        "X, y = make_circles(n_samples=1000, factor=0.5, noise=0.05)\n",
        "\n",
        "# Convert the data to JAX arrays\n",
        "X = jnp.array(X)\n",
        "y = jnp.array(y)\n",
        "\n",
        "# Split the data into training and validation sets\n",
        "X_train, X_val, y_train, y_val = train_test_split(X, y, test_size=0.2, random_state=42)"
      ],
      "metadata": {
        "id": "hiV7wi073UnJ"
      },
      "execution_count": 7,
      "outputs": []
    },
    {
      "cell_type": "markdown",
      "source": [
        "# Step 3: Define the Loss Function and Accuracy\n"
      ],
      "metadata": {
        "id": "FqVzyPP-b8_X"
      }
    },
    {
      "cell_type": "code",
      "source": [
        "# Define the binary cross-entropy loss function\n",
        "def binary_cross_entropy_loss(params, X, y):\n",
        "    logits = model.apply({'params': params}, X)\n",
        "    labels = y.reshape(-1, 1)\n",
        "    loss = -jnp.mean(labels * jnp.log(logits) + (1 - labels) * jnp.log(1 - logits))\n",
        "    return loss\n",
        "\n",
        "# Define a function to calculate accuracy\n",
        "def accuracy(params, X, y):\n",
        "    \"\"\"Calculate model accuracy.\"\"\"\n",
        "    # Predictions using the model\n",
        "    logits = model.apply({'params': params}, X)\n",
        "    # Convert logits to class predictions\n",
        "    predicted_classes = logits > 0.5\n",
        "    # Compare predictions to true labels\n",
        "    return jnp.mean(predicted_classes == y.reshape(-1, 1))\n",
        "\n",
        "# We'll also need a function to update our model's parameters via gradient descent\n",
        "@jax.jit\n",
        "def update(params, X, y, lr=0.01):\n",
        "    grads = jax.grad(binary_cross_entropy_loss)(params, X, y)\n",
        "    # Update parameters using a simple gradient descent, using the correct non-deprecated function\n",
        "    new_params = jax.tree_util.tree_map(lambda p, g: p - lr * g, params, grads)\n",
        "    return new_params"
      ],
      "metadata": {
        "id": "XOXr56mj3dA5"
      },
      "execution_count": 24,
      "outputs": []
    },
    {
      "cell_type": "markdown",
      "source": [
        "# Step 4: The Training Loop"
      ],
      "metadata": {
        "id": "FOgdJJ8GcuOk"
      }
    },
    {
      "cell_type": "code",
      "source": [
        "# Define the number of epochs and the learning rate\n",
        "num_epochs = 100\n",
        "learning_rate = 0.01\n",
        "\n",
        "# Training loop\n",
        "for epoch in range(num_epochs):\n",
        "    # Update the parameters using the entire training set\n",
        "    params = update(params, X_train, y_train, lr=learning_rate)\n",
        "\n",
        "    # Calculate the loss and accuracy on the training set\n",
        "    train_loss = binary_cross_entropy_loss(params, X_train, y_train)\n",
        "    train_accuracy = accuracy(params, X_train, y_train)\n",
        "\n",
        "    # Calculate the loss and accuracy on the validation set\n",
        "    val_loss = binary_cross_entropy_loss(params, X_val, y_val)\n",
        "    val_accuracy = accuracy(params, X_val, y_val)\n",
        "\n",
        "    # Print out the loss and accuracy for each epoch\n",
        "    print(f'Epoch {epoch + 1}, Train loss: {train_loss:.4f}, Train accuracy: {train_accuracy:.4f}, '\n",
        "          f'Val loss: {val_loss:.4f}, Val accuracy: {val_accuracy:.4f}')\n"
      ],
      "metadata": {
        "colab": {
          "base_uri": "https://localhost:8080/"
        },
        "id": "nBBSrFMqcDNX",
        "outputId": "a2c14047-24dd-4e6e-ddea-10f3b5478e08"
      },
      "execution_count": 25,
      "outputs": [
        {
          "output_type": "stream",
          "name": "stdout",
          "text": [
            "Epoch 1, Train loss: 0.7171, Train accuracy: 0.5025, Val loss: 0.7115, Val accuracy: 0.5050\n",
            "Epoch 2, Train loss: 0.7169, Train accuracy: 0.5025, Val loss: 0.7113, Val accuracy: 0.4950\n",
            "Epoch 3, Train loss: 0.7166, Train accuracy: 0.5037, Val loss: 0.7110, Val accuracy: 0.4950\n",
            "Epoch 4, Train loss: 0.7164, Train accuracy: 0.5037, Val loss: 0.7107, Val accuracy: 0.4950\n",
            "Epoch 5, Train loss: 0.7161, Train accuracy: 0.5050, Val loss: 0.7104, Val accuracy: 0.4950\n",
            "Epoch 6, Train loss: 0.7158, Train accuracy: 0.5062, Val loss: 0.7101, Val accuracy: 0.4950\n",
            "Epoch 7, Train loss: 0.7156, Train accuracy: 0.5062, Val loss: 0.7098, Val accuracy: 0.4950\n",
            "Epoch 8, Train loss: 0.7153, Train accuracy: 0.5062, Val loss: 0.7096, Val accuracy: 0.4950\n",
            "Epoch 9, Train loss: 0.7151, Train accuracy: 0.5050, Val loss: 0.7093, Val accuracy: 0.4950\n",
            "Epoch 10, Train loss: 0.7148, Train accuracy: 0.5037, Val loss: 0.7090, Val accuracy: 0.4950\n",
            "Epoch 11, Train loss: 0.7146, Train accuracy: 0.5025, Val loss: 0.7087, Val accuracy: 0.4900\n",
            "Epoch 12, Train loss: 0.7143, Train accuracy: 0.5012, Val loss: 0.7085, Val accuracy: 0.4900\n",
            "Epoch 13, Train loss: 0.7141, Train accuracy: 0.5012, Val loss: 0.7082, Val accuracy: 0.4900\n",
            "Epoch 14, Train loss: 0.7138, Train accuracy: 0.5037, Val loss: 0.7079, Val accuracy: 0.4900\n",
            "Epoch 15, Train loss: 0.7136, Train accuracy: 0.5012, Val loss: 0.7077, Val accuracy: 0.4900\n",
            "Epoch 16, Train loss: 0.7133, Train accuracy: 0.5012, Val loss: 0.7074, Val accuracy: 0.4900\n",
            "Epoch 17, Train loss: 0.7131, Train accuracy: 0.5000, Val loss: 0.7071, Val accuracy: 0.4900\n",
            "Epoch 18, Train loss: 0.7128, Train accuracy: 0.5025, Val loss: 0.7069, Val accuracy: 0.4950\n",
            "Epoch 19, Train loss: 0.7126, Train accuracy: 0.5025, Val loss: 0.7066, Val accuracy: 0.4900\n",
            "Epoch 20, Train loss: 0.7124, Train accuracy: 0.5012, Val loss: 0.7063, Val accuracy: 0.4900\n",
            "Epoch 21, Train loss: 0.7121, Train accuracy: 0.4988, Val loss: 0.7061, Val accuracy: 0.4950\n",
            "Epoch 22, Train loss: 0.7119, Train accuracy: 0.4975, Val loss: 0.7058, Val accuracy: 0.4950\n",
            "Epoch 23, Train loss: 0.7116, Train accuracy: 0.4975, Val loss: 0.7056, Val accuracy: 0.4950\n",
            "Epoch 24, Train loss: 0.7114, Train accuracy: 0.4963, Val loss: 0.7053, Val accuracy: 0.4950\n",
            "Epoch 25, Train loss: 0.7112, Train accuracy: 0.4975, Val loss: 0.7051, Val accuracy: 0.4950\n",
            "Epoch 26, Train loss: 0.7109, Train accuracy: 0.4988, Val loss: 0.7048, Val accuracy: 0.4950\n",
            "Epoch 27, Train loss: 0.7107, Train accuracy: 0.4988, Val loss: 0.7046, Val accuracy: 0.4950\n",
            "Epoch 28, Train loss: 0.7105, Train accuracy: 0.4975, Val loss: 0.7043, Val accuracy: 0.4950\n",
            "Epoch 29, Train loss: 0.7103, Train accuracy: 0.4963, Val loss: 0.7041, Val accuracy: 0.4950\n",
            "Epoch 30, Train loss: 0.7100, Train accuracy: 0.4950, Val loss: 0.7038, Val accuracy: 0.4950\n",
            "Epoch 31, Train loss: 0.7098, Train accuracy: 0.4950, Val loss: 0.7036, Val accuracy: 0.4900\n",
            "Epoch 32, Train loss: 0.7096, Train accuracy: 0.4950, Val loss: 0.7033, Val accuracy: 0.4900\n",
            "Epoch 33, Train loss: 0.7094, Train accuracy: 0.4950, Val loss: 0.7031, Val accuracy: 0.4900\n",
            "Epoch 34, Train loss: 0.7091, Train accuracy: 0.4937, Val loss: 0.7028, Val accuracy: 0.4900\n",
            "Epoch 35, Train loss: 0.7089, Train accuracy: 0.4937, Val loss: 0.7026, Val accuracy: 0.4900\n",
            "Epoch 36, Train loss: 0.7087, Train accuracy: 0.4937, Val loss: 0.7023, Val accuracy: 0.4900\n",
            "Epoch 37, Train loss: 0.7085, Train accuracy: 0.4937, Val loss: 0.7021, Val accuracy: 0.4900\n",
            "Epoch 38, Train loss: 0.7083, Train accuracy: 0.4937, Val loss: 0.7019, Val accuracy: 0.4950\n",
            "Epoch 39, Train loss: 0.7080, Train accuracy: 0.4925, Val loss: 0.7016, Val accuracy: 0.4950\n",
            "Epoch 40, Train loss: 0.7078, Train accuracy: 0.4925, Val loss: 0.7014, Val accuracy: 0.4950\n",
            "Epoch 41, Train loss: 0.7076, Train accuracy: 0.4925, Val loss: 0.7012, Val accuracy: 0.4950\n",
            "Epoch 42, Train loss: 0.7074, Train accuracy: 0.4937, Val loss: 0.7009, Val accuracy: 0.4950\n",
            "Epoch 43, Train loss: 0.7072, Train accuracy: 0.4937, Val loss: 0.7007, Val accuracy: 0.5000\n",
            "Epoch 44, Train loss: 0.7070, Train accuracy: 0.4937, Val loss: 0.7005, Val accuracy: 0.5000\n",
            "Epoch 45, Train loss: 0.7068, Train accuracy: 0.4937, Val loss: 0.7002, Val accuracy: 0.5000\n",
            "Epoch 46, Train loss: 0.7065, Train accuracy: 0.4925, Val loss: 0.7000, Val accuracy: 0.5000\n",
            "Epoch 47, Train loss: 0.7063, Train accuracy: 0.4912, Val loss: 0.6998, Val accuracy: 0.5000\n",
            "Epoch 48, Train loss: 0.7061, Train accuracy: 0.4925, Val loss: 0.6996, Val accuracy: 0.4950\n",
            "Epoch 49, Train loss: 0.7059, Train accuracy: 0.4925, Val loss: 0.6993, Val accuracy: 0.4950\n",
            "Epoch 50, Train loss: 0.7057, Train accuracy: 0.4925, Val loss: 0.6991, Val accuracy: 0.4950\n",
            "Epoch 51, Train loss: 0.7055, Train accuracy: 0.4937, Val loss: 0.6989, Val accuracy: 0.5000\n",
            "Epoch 52, Train loss: 0.7053, Train accuracy: 0.4950, Val loss: 0.6987, Val accuracy: 0.5000\n",
            "Epoch 53, Train loss: 0.7051, Train accuracy: 0.4950, Val loss: 0.6985, Val accuracy: 0.4950\n",
            "Epoch 54, Train loss: 0.7049, Train accuracy: 0.4950, Val loss: 0.6982, Val accuracy: 0.4950\n",
            "Epoch 55, Train loss: 0.7047, Train accuracy: 0.4950, Val loss: 0.6980, Val accuracy: 0.4950\n",
            "Epoch 56, Train loss: 0.7045, Train accuracy: 0.4963, Val loss: 0.6978, Val accuracy: 0.4950\n",
            "Epoch 57, Train loss: 0.7043, Train accuracy: 0.4963, Val loss: 0.6976, Val accuracy: 0.4900\n",
            "Epoch 58, Train loss: 0.7041, Train accuracy: 0.4963, Val loss: 0.6974, Val accuracy: 0.4900\n",
            "Epoch 59, Train loss: 0.7039, Train accuracy: 0.4963, Val loss: 0.6972, Val accuracy: 0.4900\n",
            "Epoch 60, Train loss: 0.7037, Train accuracy: 0.4963, Val loss: 0.6969, Val accuracy: 0.4900\n",
            "Epoch 61, Train loss: 0.7035, Train accuracy: 0.4963, Val loss: 0.6967, Val accuracy: 0.4900\n",
            "Epoch 62, Train loss: 0.7033, Train accuracy: 0.4963, Val loss: 0.6965, Val accuracy: 0.4900\n",
            "Epoch 63, Train loss: 0.7031, Train accuracy: 0.4963, Val loss: 0.6963, Val accuracy: 0.4900\n",
            "Epoch 64, Train loss: 0.7029, Train accuracy: 0.4963, Val loss: 0.6961, Val accuracy: 0.4900\n",
            "Epoch 65, Train loss: 0.7027, Train accuracy: 0.4963, Val loss: 0.6959, Val accuracy: 0.4900\n",
            "Epoch 66, Train loss: 0.7025, Train accuracy: 0.4975, Val loss: 0.6957, Val accuracy: 0.4850\n",
            "Epoch 67, Train loss: 0.7023, Train accuracy: 0.5000, Val loss: 0.6955, Val accuracy: 0.4950\n",
            "Epoch 68, Train loss: 0.7021, Train accuracy: 0.5000, Val loss: 0.6953, Val accuracy: 0.4950\n",
            "Epoch 69, Train loss: 0.7020, Train accuracy: 0.4988, Val loss: 0.6951, Val accuracy: 0.4950\n",
            "Epoch 70, Train loss: 0.7018, Train accuracy: 0.4975, Val loss: 0.6949, Val accuracy: 0.4950\n",
            "Epoch 71, Train loss: 0.7016, Train accuracy: 0.4937, Val loss: 0.6947, Val accuracy: 0.4950\n",
            "Epoch 72, Train loss: 0.7014, Train accuracy: 0.4900, Val loss: 0.6945, Val accuracy: 0.4900\n",
            "Epoch 73, Train loss: 0.7012, Train accuracy: 0.4787, Val loss: 0.6943, Val accuracy: 0.4850\n",
            "Epoch 74, Train loss: 0.7010, Train accuracy: 0.4737, Val loss: 0.6941, Val accuracy: 0.4800\n",
            "Epoch 75, Train loss: 0.7008, Train accuracy: 0.4650, Val loss: 0.6939, Val accuracy: 0.4700\n",
            "Epoch 76, Train loss: 0.7007, Train accuracy: 0.4562, Val loss: 0.6937, Val accuracy: 0.4550\n",
            "Epoch 77, Train loss: 0.7005, Train accuracy: 0.4500, Val loss: 0.6935, Val accuracy: 0.4550\n",
            "Epoch 78, Train loss: 0.7003, Train accuracy: 0.4487, Val loss: 0.6933, Val accuracy: 0.4500\n",
            "Epoch 79, Train loss: 0.7001, Train accuracy: 0.4487, Val loss: 0.6931, Val accuracy: 0.4500\n",
            "Epoch 80, Train loss: 0.6999, Train accuracy: 0.4550, Val loss: 0.6929, Val accuracy: 0.4600\n",
            "Epoch 81, Train loss: 0.6997, Train accuracy: 0.4688, Val loss: 0.6927, Val accuracy: 0.4750\n",
            "Epoch 82, Train loss: 0.6996, Train accuracy: 0.4825, Val loss: 0.6925, Val accuracy: 0.4750\n",
            "Epoch 83, Train loss: 0.6994, Train accuracy: 0.4850, Val loss: 0.6923, Val accuracy: 0.4750\n",
            "Epoch 84, Train loss: 0.6992, Train accuracy: 0.4850, Val loss: 0.6921, Val accuracy: 0.4750\n",
            "Epoch 85, Train loss: 0.6990, Train accuracy: 0.4862, Val loss: 0.6919, Val accuracy: 0.4800\n",
            "Epoch 86, Train loss: 0.6989, Train accuracy: 0.4875, Val loss: 0.6917, Val accuracy: 0.4800\n",
            "Epoch 87, Train loss: 0.6987, Train accuracy: 0.4850, Val loss: 0.6915, Val accuracy: 0.4800\n",
            "Epoch 88, Train loss: 0.6985, Train accuracy: 0.4850, Val loss: 0.6913, Val accuracy: 0.4800\n",
            "Epoch 89, Train loss: 0.6983, Train accuracy: 0.4825, Val loss: 0.6912, Val accuracy: 0.4850\n",
            "Epoch 90, Train loss: 0.6982, Train accuracy: 0.4825, Val loss: 0.6910, Val accuracy: 0.4950\n",
            "Epoch 91, Train loss: 0.6980, Train accuracy: 0.4812, Val loss: 0.6908, Val accuracy: 0.4950\n",
            "Epoch 92, Train loss: 0.6978, Train accuracy: 0.4825, Val loss: 0.6906, Val accuracy: 0.4950\n",
            "Epoch 93, Train loss: 0.6976, Train accuracy: 0.4850, Val loss: 0.6904, Val accuracy: 0.4950\n",
            "Epoch 94, Train loss: 0.6975, Train accuracy: 0.4850, Val loss: 0.6902, Val accuracy: 0.4950\n",
            "Epoch 95, Train loss: 0.6973, Train accuracy: 0.4850, Val loss: 0.6900, Val accuracy: 0.4950\n",
            "Epoch 96, Train loss: 0.6971, Train accuracy: 0.4862, Val loss: 0.6899, Val accuracy: 0.4950\n",
            "Epoch 97, Train loss: 0.6969, Train accuracy: 0.4875, Val loss: 0.6897, Val accuracy: 0.4950\n",
            "Epoch 98, Train loss: 0.6968, Train accuracy: 0.4875, Val loss: 0.6895, Val accuracy: 0.4950\n",
            "Epoch 99, Train loss: 0.6966, Train accuracy: 0.4875, Val loss: 0.6893, Val accuracy: 0.4950\n",
            "Epoch 100, Train loss: 0.6964, Train accuracy: 0.4887, Val loss: 0.6891, Val accuracy: 0.4950\n"
          ]
        }
      ]
    },
    {
      "cell_type": "markdown",
      "source": [
        "# Step 5: Making Predictions"
      ],
      "metadata": {
        "id": "tlsu5J9zewJN"
      }
    },
    {
      "cell_type": "code",
      "source": [
        "def predict(params, X_new):\n",
        "    \"\"\"Make predictions using the trained model parameters on new data.\"\"\"\n",
        "    logits = model.apply({'params': params}, X_new)\n",
        "    predicted_classes = logits > 0.5  # Threshold the logits to get binary predictions\n",
        "    return predicted_classes\n",
        "\n",
        "# Example new data (ensure it has the same features and preprocessing as the training data)\n",
        "X_new = jnp.array([[0.1, 0.2], [1.2, 0.2], [-0.5, 0.6], [0.3, -0.4]])  # Replace with actual new data\n",
        "\n",
        "# Make predictions\n",
        "new_predictions = predict(params, X_new)\n",
        "print(\"Predicted classes:\", new_predictions)"
      ],
      "metadata": {
        "colab": {
          "base_uri": "https://localhost:8080/"
        },
        "id": "E7bj7zGhcyuE",
        "outputId": "ffa40941-a594-41a5-ca53-0f4e9cf99b83"
      },
      "execution_count": 26,
      "outputs": [
        {
          "output_type": "stream",
          "name": "stdout",
          "text": [
            "Predicted classes: [[False]\n",
            " [ True]\n",
            " [ True]\n",
            " [False]]\n"
          ]
        }
      ]
    }
  ]
}