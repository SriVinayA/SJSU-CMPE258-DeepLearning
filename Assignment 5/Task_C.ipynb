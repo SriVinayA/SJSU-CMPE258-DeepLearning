{
  "nbformat": 4,
  "nbformat_minor": 0,
  "metadata": {
    "colab": {
      "provenance": []
    },
    "kernelspec": {
      "name": "python3",
      "display_name": "Python 3"
    },
    "language_info": {
      "name": "python"
    }
  },
  "cells": [
    {
      "cell_type": "markdown",
      "source": [
        "# Step 1: Import Necessary Libraries"
      ],
      "metadata": {
        "id": "1DWsCR57ID5x"
      }
    },
    {
      "cell_type": "code",
      "execution_count": 1,
      "metadata": {
        "id": "FJVFcwBzH3yY"
      },
      "outputs": [],
      "source": [
        "import torch\n",
        "import torch.nn as nn\n",
        "import torch.optim as optim"
      ]
    },
    {
      "cell_type": "markdown",
      "source": [
        "# Step 2: Define the Neural Network Architecture"
      ],
      "metadata": {
        "id": "6rNYuLmGIGIw"
      }
    },
    {
      "cell_type": "code",
      "source": [
        "class ThreeLayerNN(nn.Module):\n",
        "    def __init__(self, input_features, hidden_neurons_layer1, hidden_neurons_layer2, output_features):\n",
        "        super(ThreeLayerNN, self).__init__()\n",
        "        self.layer1 = nn.Linear(input_features, hidden_neurons_layer1)\n",
        "        self.relu1 = nn.ReLU()\n",
        "        self.layer2 = nn.Linear(hidden_neurons_layer1, hidden_neurons_layer2)\n",
        "        self.relu2 = nn.ReLU()\n",
        "        self.output_layer = nn.Linear(hidden_neurons_layer2, output_features)\n",
        "\n",
        "    def forward(self, x):\n",
        "        x = self.relu1(self.layer1(x))\n",
        "        x = self.relu2(self.layer2(x))\n",
        "        x = self.output_layer(x)\n",
        "        return x"
      ],
      "metadata": {
        "id": "OKARZdRhH8BT"
      },
      "execution_count": 2,
      "outputs": []
    },
    {
      "cell_type": "code",
      "source": [
        "# Define the 3-layer neural network class using PyTorch's nn.Module\n",
        "class ThreeLayerNN(nn.Module):\n",
        "    def __init__(self, input_features, hidden_neurons_layer1, hidden_neurons_layer2, output_features):\n",
        "        super(ThreeLayerNN, self).__init__()\n",
        "        self.layer1 = nn.Linear(input_features, hidden_neurons_layer1)\n",
        "        self.relu1 = nn.ReLU()\n",
        "        self.layer2 = nn.Linear(hidden_neurons_layer1, hidden_neurons_layer2)\n",
        "        self.relu2 = nn.ReLU()\n",
        "        self.output_layer = nn.Linear(hidden_neurons_layer2, output_features)\n",
        "\n",
        "    def forward(self, x):\n",
        "        x = self.relu1(self.layer1(x))\n",
        "        x = self.relu2(self.layer2(x))\n",
        "        x = self.output_layer(x)\n",
        "        return x\n",
        "\n",
        "# Check that the class is defined correctly by creating an instance with example dimensions\n",
        "model_example = ThreeLayerNN(input_features=10, hidden_neurons_layer1=64, hidden_neurons_layer2=32, output_features=1)\n",
        "model_example"
      ],
      "metadata": {
        "colab": {
          "base_uri": "https://localhost:8080/"
        },
        "id": "6R2KVcn_H_JJ",
        "outputId": "86604919-82b5-4fa0-ce70-b5920affcdd6"
      },
      "execution_count": 3,
      "outputs": [
        {
          "output_type": "execute_result",
          "data": {
            "text/plain": [
              "ThreeLayerNN(\n",
              "  (layer1): Linear(in_features=10, out_features=64, bias=True)\n",
              "  (relu1): ReLU()\n",
              "  (layer2): Linear(in_features=64, out_features=32, bias=True)\n",
              "  (relu2): ReLU()\n",
              "  (output_layer): Linear(in_features=32, out_features=1, bias=True)\n",
              ")"
            ]
          },
          "metadata": {},
          "execution_count": 3
        }
      ]
    },
    {
      "cell_type": "markdown",
      "source": [
        "The 3-layer neural network class has been successfully defined using PyTorch's built-in functionalities. The network includes two hidden layers with ReLU activation functions and a final output layer for regression."
      ],
      "metadata": {
        "id": "tqdJWskRIcRh"
      }
    },
    {
      "cell_type": "markdown",
      "source": [
        "# Step 3: Initialize the Model and Optimizer"
      ],
      "metadata": {
        "id": "_Hmqwu9bIL3a"
      }
    },
    {
      "cell_type": "code",
      "source": [
        "# Parameters for the model\n",
        "input_features = 10\n",
        "hidden_neurons_layer1 = 64\n",
        "hidden_neurons_layer2 = 32\n",
        "output_features = 1\n",
        "\n",
        "# Create an instance of the model\n",
        "model = ThreeLayerNN(input_features, hidden_neurons_layer1, hidden_neurons_layer2, output_features)\n",
        "\n",
        "# Set up the loss function and the optimizer\n",
        "loss_function = nn.MSELoss()\n",
        "optimizer = optim.Adam(model.parameters(), lr=0.01)"
      ],
      "metadata": {
        "id": "3J1QOxjyIJqS"
      },
      "execution_count": 4,
      "outputs": []
    },
    {
      "cell_type": "code",
      "source": [
        "# Parameters for the model\n",
        "input_features = 10\n",
        "hidden_neurons_layer1 = 64\n",
        "hidden_neurons_layer2 = 32\n",
        "output_features = 1\n",
        "\n",
        "# Create an instance of the model\n",
        "model = ThreeLayerNN(input_features, hidden_neurons_layer1, hidden_neurons_layer2, output_features)\n",
        "\n",
        "# Set up the loss function and the optimizer\n",
        "loss_function = nn.MSELoss()\n",
        "optimizer = optim.Adam(model.parameters(), lr=0.01)\n",
        "\n",
        "# Output model, loss function, and optimizer to confirm setup\n",
        "model, loss_function, optimizer"
      ],
      "metadata": {
        "colab": {
          "base_uri": "https://localhost:8080/"
        },
        "id": "FZozsil3IN5S",
        "outputId": "2d8bb293-7881-415c-bfa1-f2f6f132022c"
      },
      "execution_count": 5,
      "outputs": [
        {
          "output_type": "execute_result",
          "data": {
            "text/plain": [
              "(ThreeLayerNN(\n",
              "   (layer1): Linear(in_features=10, out_features=64, bias=True)\n",
              "   (relu1): ReLU()\n",
              "   (layer2): Linear(in_features=64, out_features=32, bias=True)\n",
              "   (relu2): ReLU()\n",
              "   (output_layer): Linear(in_features=32, out_features=1, bias=True)\n",
              " ),\n",
              " MSELoss(),\n",
              " Adam (\n",
              " Parameter Group 0\n",
              "     amsgrad: False\n",
              "     betas: (0.9, 0.999)\n",
              "     capturable: False\n",
              "     differentiable: False\n",
              "     eps: 1e-08\n",
              "     foreach: None\n",
              "     fused: None\n",
              "     lr: 0.01\n",
              "     maximize: False\n",
              "     weight_decay: 0\n",
              " ))"
            ]
          },
          "metadata": {},
          "execution_count": 5
        }
      ]
    },
    {
      "cell_type": "markdown",
      "source": [
        "The model has been initialized, and we've set up the Mean Squared Error (MSE) loss function along with the Adam optimizer for training. The learning rate is configured to 0.01."
      ],
      "metadata": {
        "id": "EBWhgFPnIgMC"
      }
    },
    {
      "cell_type": "markdown",
      "source": [
        "# Step 4: Generate Training Data and Train the Model"
      ],
      "metadata": {
        "id": "pfrSg9jjIUII"
      }
    },
    {
      "cell_type": "code",
      "source": [
        "# Set a random seed for reproducibility\n",
        "torch.manual_seed(42)\n",
        "\n",
        "# Generate synthetic training data\n",
        "X_train = torch.randn(100, 10)  # 100 samples, 10 features each\n",
        "y_train = 5 * torch.sum(X_train**2, dim=1, keepdims=True) + 3  # Nonlinear relationship with the input\n",
        "\n",
        "# Define the number of epochs for training\n",
        "epochs = 100\n",
        "loss_history = []\n",
        "\n",
        "# Training loop\n",
        "for epoch in range(epochs):\n",
        "    # Forward pass: compute predicted outputs by passing inputs to the model\n",
        "    predictions = model(X_train)\n",
        "\n",
        "    # Calculate the loss\n",
        "    loss = loss_function(predictions, y_train)\n",
        "\n",
        "    # Clear the gradients of all optimized variables\n",
        "    optimizer.zero_grad()\n",
        "\n",
        "    # Backpropagation: compute gradient of the loss with respect to model parameters\n",
        "    loss.backward()\n",
        "\n",
        "    # Perform a single optimization step (parameter update)\n",
        "    optimizer.step()\n",
        "\n",
        "    # Record the loss\n",
        "    loss_history.append(loss.item())\n",
        "\n",
        "    # Print loss every 10 epochs\n",
        "    if epoch % 10 == 0:\n",
        "        print(f'Epoch {epoch}/{epochs}, Loss: {loss.item()}')\n",
        "\n",
        "# Check the final loss\n",
        "final_loss = loss_history[-1]\n",
        "final_loss"
      ],
      "metadata": {
        "colab": {
          "base_uri": "https://localhost:8080/"
        },
        "id": "dfmxjJRSISOh",
        "outputId": "5ed37a53-e075-4678-bb29-5bb48f04791d"
      },
      "execution_count": 6,
      "outputs": [
        {
          "output_type": "stream",
          "name": "stdout",
          "text": [
            "Epoch 0/100, Loss: 3333.499267578125\n",
            "Epoch 10/100, Loss: 2578.5859375\n",
            "Epoch 20/100, Loss: 532.7786865234375\n",
            "Epoch 30/100, Loss: 373.03192138671875\n",
            "Epoch 40/100, Loss: 165.51121520996094\n",
            "Epoch 50/100, Loss: 94.84580993652344\n",
            "Epoch 60/100, Loss: 81.41854858398438\n",
            "Epoch 70/100, Loss: 68.10877227783203\n",
            "Epoch 80/100, Loss: 56.106163024902344\n",
            "Epoch 90/100, Loss: 47.94950866699219\n"
          ]
        },
        {
          "output_type": "execute_result",
          "data": {
            "text/plain": [
              "41.99958801269531"
            ]
          },
          "metadata": {},
          "execution_count": 6
        }
      ]
    },
    {
      "cell_type": "markdown",
      "source": [
        "The training loop executed successfully, and as we can see, the loss significantly decreased from 3333.49 to 41.99 over 100 epochs, indicating that the model is learning effectively from the synthetic data."
      ],
      "metadata": {
        "id": "ab97QnHKIm6C"
      }
    },
    {
      "cell_type": "code",
      "source": [
        "import matplotlib.pyplot as plt\n",
        "\n",
        "# Plotting the loss history over epochs\n",
        "plt.figure(figsize=(10, 5))\n",
        "plt.plot(loss_history, label='MSE Loss')\n",
        "plt.title('Loss History over Epochs')\n",
        "plt.xlabel('Epoch')\n",
        "plt.ylabel('Loss')\n",
        "plt.legend()\n",
        "plt.grid(True)\n",
        "plt.show()"
      ],
      "metadata": {
        "colab": {
          "base_uri": "https://localhost:8080/",
          "height": 487
        },
        "id": "wuybjesyIjl6",
        "outputId": "40eeff7a-a3af-4875-860c-9125f54a37d0"
      },
      "execution_count": 7,
      "outputs": [
        {
          "output_type": "display_data",
          "data": {
            "text/plain": [
              "<Figure size 1000x500 with 1 Axes>"
            ],
            "image/png": "[encoded data removed]"
          },
          "metadata": {}
        }
      ]
    },
    {
      "cell_type": "markdown",
      "source": [
        "Here's the plot showing the loss history over the epochs. As you can see, the loss decreases sharply at the beginning and then continues to decrease more gradually as the model approaches a lower error rate."
      ],
      "metadata": {
        "id": "7PtNqgN_JDy4"
      }
    }
  ]
}