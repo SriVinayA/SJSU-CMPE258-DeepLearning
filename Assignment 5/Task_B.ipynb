{
  "nbformat": 4,
  "nbformat_minor": 0,
  "metadata": {
    "colab": {
      "provenance": []
    },
    "kernelspec": {
      "name": "python3",
      "display_name": "Python 3"
    },
    "language_info": {
      "name": "python"
    }
  },
  "cells": [
    {
      "cell_type": "markdown",
      "source": [
        "# Step 1: Setup and Imports"
      ],
      "metadata": {
        "id": "bMA4LIDPFiqk"
      }
    },
    {
      "cell_type": "code",
      "execution_count": 1,
      "metadata": {
        "id": "UDBvm8SwhlGw",
        "colab": {
          "base_uri": "https://localhost:8080/"
        },
        "outputId": "3d10066c-a7aa-4538-98da-11c4114e4ac7"
      },
      "outputs": [
        {
          "output_type": "execute_result",
          "data": {
            "text/plain": [
              "device(type='cpu')"
            ]
          },
          "metadata": {},
          "execution_count": 1
        }
      ],
      "source": [
        "import torch\n",
        "\n",
        "# Set the device to use GPU if available, otherwise use CPU\n",
        "device = torch.device(\"cuda\" if torch.cuda.is_available() else \"cpu\")\n",
        "\n",
        "# This will output the device that will be used\n",
        "device"
      ]
    },
    {
      "cell_type": "markdown",
      "source": [
        "# Step 2: Define the Network Structure"
      ],
      "metadata": {
        "id": "oezIXtKDFlFZ"
      }
    },
    {
      "cell_type": "code",
      "source": [
        "# Defining the size of each layer\n",
        "input_features = 10\n",
        "hidden_neurons_layer1 = 64\n",
        "hidden_neurons_layer2 = 32\n",
        "output_features = 1\n",
        "\n",
        "# Initialize weights using He initialization and biases with zeros\n",
        "W1 = torch.randn(input_features, hidden_neurons_layer1, device=device) * torch.sqrt(torch.tensor(2.0/input_features))\n",
        "b1 = torch.zeros(1, hidden_neurons_layer1, device=device)\n",
        "\n",
        "W2 = torch.randn(hidden_neurons_layer1, hidden_neurons_layer2, device=device) * torch.sqrt(torch.tensor(2.0/hidden_neurons_layer1))\n",
        "b2 = torch.zeros(1, hidden_neurons_layer2, device=device)\n",
        "\n",
        "W3 = torch.randn(hidden_neurons_layer2, output_features, device=device) * torch.sqrt(torch.tensor(2.0/hidden_neurons_layer2))\n",
        "b3 = torch.zeros(1, output_features, device=device)\n",
        "\n",
        "# Weights and biases are set to require gradients for backpropagation\n",
        "W1.requires_grad_(True)\n",
        "b1.requires_grad_(True)\n",
        "W2.requires_grad_(True)\n",
        "b2.requires_grad_(True)\n",
        "W3.requires_grad_(True)\n",
        "b3.requires_grad_(True)\n",
        "\n",
        "(W1.shape, b1.shape), (W2.shape, b2.shape), (W3.shape, b3.shape)"
      ],
      "metadata": {
        "colab": {
          "base_uri": "https://localhost:8080/"
        },
        "id": "2iQaWiQPFmC0",
        "outputId": "ed059794-a9e6-48b0-a695-2890172b74a9"
      },
      "execution_count": 2,
      "outputs": [
        {
          "output_type": "execute_result",
          "data": {
            "text/plain": [
              "((torch.Size([10, 64]), torch.Size([1, 64])),\n",
              " (torch.Size([64, 32]), torch.Size([1, 32])),\n",
              " (torch.Size([32, 1]), torch.Size([1, 1])))"
            ]
          },
          "metadata": {},
          "execution_count": 2
        }
      ]
    },
    {
      "cell_type": "markdown",
      "source": [
        "We've successfully defined and initialized the weights and biases for our three-layer neural network:\n",
        "\n",
        "* First hidden layer: 10 input features to 64 neurons.\n",
        "* Second hidden layer: 64 neurons to 32 neurons.\n",
        "* Output layer: 32 neurons to 1 output feature.\n",
        "\n",
        "All weights and biases have been initialized using the He initialization method, appropriate for ReLU activations, and are configured to track gradients for optimization."
      ],
      "metadata": {
        "id": "aV_era0YF1A5"
      }
    },
    {
      "cell_type": "markdown",
      "source": [
        "# Step 3: Create the Forward Pass Function"
      ],
      "metadata": {
        "id": "KZP9QBtQF-84"
      }
    },
    {
      "cell_type": "code",
      "source": [
        "def forward_pass(X):\n",
        "    # Apply first hidden layer transformation and ReLU activation\n",
        "    Z1 = torch.mm(X, W1) + b1\n",
        "    A1 = torch.relu(Z1)\n",
        "\n",
        "    # Apply second hidden layer transformation and ReLU activation\n",
        "    Z2 = torch.mm(A1, W2) + b2\n",
        "    A2 = torch.relu(Z2)\n",
        "\n",
        "    # Apply output layer transformation (no non-linear activation here)\n",
        "    output = torch.mm(A2, W3) + b3\n",
        "\n",
        "    return output\n",
        "\n",
        "# Testing the forward pass with some random data\n",
        "X_sample = torch.randn(10, input_features, device=device)  # Random sample with batch size of 10\n",
        "output_sample = forward_pass(X_sample)\n",
        "\n",
        "output_sample.shape, output_sample"
      ],
      "metadata": {
        "colab": {
          "base_uri": "https://localhost:8080/"
        },
        "id": "bW6bR9MOFo-V",
        "outputId": "483a133e-1954-4889-e2fd-372745efa584"
      },
      "execution_count": 3,
      "outputs": [
        {
          "output_type": "execute_result",
          "data": {
            "text/plain": [
              "(torch.Size([10, 1]),\n",
              " tensor([[ 2.0055],\n",
              "         [-0.7870],\n",
              "         [-1.7107],\n",
              "         [-0.4049],\n",
              "         [-3.2010],\n",
              "         [-2.2507],\n",
              "         [ 0.4218],\n",
              "         [-0.8491],\n",
              "         [-2.0215],\n",
              "         [-0.8416]], grad_fn=<AddBackward0>))"
            ]
          },
          "metadata": {},
          "execution_count": 3
        }
      ]
    },
    {
      "cell_type": "markdown",
      "source": [
        "The forward pass function is working correctly. We're able to pass a batch of random input data through the network, and it outputs predictions based on the current (untrained) state of the weights and biases. The output shape is correct, indicating that each input example in the batch results in a single output value, which is what we expect for regression tasks."
      ],
      "metadata": {
        "id": "cYPnp_t8GFXD"
      }
    },
    {
      "cell_type": "markdown",
      "source": [
        "# Step 4: Loss Function and Optimization"
      ],
      "metadata": {
        "id": "2-VrX0ibGIum"
      }
    },
    {
      "cell_type": "code",
      "source": [
        "def mse_loss(predictions, targets):\n",
        "    # Compute the Mean Squared Error\n",
        "    return ((predictions - targets) ** 2).mean()\n",
        "\n",
        "def update_weights(weights, biases, learning_rate):\n",
        "    # Update weights and biases using gradient descent\n",
        "    with torch.no_grad():  # Temporarily set all the requires_grad flags to false\n",
        "        weights -= learning_rate * weights.grad\n",
        "        biases -= learning_rate * biases.grad\n",
        "\n",
        "        # Manually zero the gradients after updating weights\n",
        "        weights.grad.zero_()\n",
        "        biases.grad.zero_()\n",
        "\n",
        "# Define a simple learning rate\n",
        "learning_rate = 0.01\n",
        "\n",
        "# Testing the update - we will create a dummy target to compute a loss and then update the weights\n",
        "targets_sample = torch.randn(10, 1, device=device)  # Random targets for demonstration\n",
        "output_sample = forward_pass(X_sample)\n",
        "loss = mse_loss(output_sample, targets_sample)\n",
        "loss.backward()  # Compute gradients\n",
        "\n",
        "# Before update\n",
        "print(\"Gradients before update:\", W1.grad[0][:10])  # Display a few gradients\n",
        "\n",
        "# Update weights of the first layer as a test\n",
        "update_weights(W1, b1, learning_rate)\n",
        "\n",
        "# After update\n",
        "print(\"Gradients after update:\", W1.grad[0][:10])  # Check gradients after zeroing them out"
      ],
      "metadata": {
        "colab": {
          "base_uri": "https://localhost:8080/"
        },
        "id": "H1whph4FGCJb",
        "outputId": "7567103d-c83b-4c66-9def-542bd35bcc1f"
      },
      "execution_count": 4,
      "outputs": [
        {
          "output_type": "stream",
          "name": "stdout",
          "text": [
            "Gradients before update: tensor([-0.0620,  0.1435,  0.0248, -0.0374,  0.1030,  0.0305, -0.0064, -0.0131,\n",
            "         0.0156, -0.2506])\n",
            "Gradients after update: tensor([0., 0., 0., 0., 0., 0., 0., 0., 0., 0.])\n"
          ]
        }
      ]
    },
    {
      "cell_type": "markdown",
      "source": [
        "We've successfully defined the MSE loss function and demonstrated how to manually update the weights and biases using gradient descent. After the update, we've also zeroed out the gradients to ensure they don't accumulate across iterations."
      ],
      "metadata": {
        "id": "hQkWMBNkGPI3"
      }
    },
    {
      "cell_type": "markdown",
      "source": [
        "# Step 5: Training Loop"
      ],
      "metadata": {
        "id": "Usz-gNCFGfTq"
      }
    },
    {
      "cell_type": "code",
      "source": [
        "# Generate some synthetic data for training\n",
        "torch.manual_seed(42)  # For reproducibility\n",
        "X_train = torch.randn(100, input_features, device=device)  # 100 samples, 10 features each\n",
        "y_train = 5 * torch.sum(X_train, dim=1, keepdims=True) + 3  # Linear relationship plus some constant\n",
        "\n",
        "# Number of epochs\n",
        "epochs = 500\n",
        "loss_history = []\n",
        "\n",
        "for epoch in range(epochs):\n",
        "    # Forward pass\n",
        "    predictions = forward_pass(X_train)\n",
        "\n",
        "    # Compute loss\n",
        "    loss = mse_loss(predictions, y_train)\n",
        "    loss_history.append(loss.item())\n",
        "\n",
        "    # Backpropagation\n",
        "    loss.backward()\n",
        "\n",
        "    # Update weights and biases\n",
        "    update_weights(W1, b1, learning_rate)\n",
        "    update_weights(W2, b2, learning_rate)\n",
        "    update_weights(W3, b3, learning_rate)\n",
        "\n",
        "    # Print loss every 50 epochs\n",
        "    if epoch % 50 == 0:\n",
        "        print(f\"Epoch {epoch}, Loss: {loss.item()}\")\n",
        "\n",
        "# Plot the loss history to see how the model learns\n",
        "import matplotlib.pyplot as plt\n",
        "\n",
        "plt.figure(figsize=(10, 5))\n",
        "plt.plot(loss_history, label='MSE Loss')\n",
        "plt.title('Loss History over Epochs')\n",
        "plt.xlabel('Epoch')\n",
        "plt.ylabel('Loss')\n",
        "plt.legend()\n",
        "plt.grid(True)\n",
        "plt.show()"
      ],
      "metadata": {
        "colab": {
          "base_uri": "https://localhost:8080/",
          "height": 668
        },
        "id": "Xq_pM3mQGNUU",
        "outputId": "60addecf-26f7-4033-c06a-0071e00a9f0d"
      },
      "execution_count": 5,
      "outputs": [
        {
          "output_type": "stream",
          "name": "stdout",
          "text": [
            "Epoch 0, Loss: 291.492431640625\n",
            "Epoch 50, Loss: 8.076179504394531\n",
            "Epoch 100, Loss: 3.6869449615478516\n",
            "Epoch 150, Loss: 2.012660503387451\n",
            "Epoch 200, Loss: 1.1524468660354614\n",
            "Epoch 250, Loss: 0.6630366444587708\n",
            "Epoch 300, Loss: 0.41472384333610535\n",
            "Epoch 350, Loss: 0.27578818798065186\n",
            "Epoch 400, Loss: 0.1932656168937683\n",
            "Epoch 450, Loss: 0.144996777176857\n"
          ]
        },
        {
          "output_type": "display_data",
          "data": {
            "text/plain": [
              "<Figure size 1000x500 with 1 Axes>"
            ],
            "image/png": "[encoded data removed]"
          },
          "metadata": {}
        }
      ]
    },
    {
      "cell_type": "markdown",
      "source": [
        "The training loop executed successfully, and as we can see, the loss decreased significantly over the epochs, indicating that the model is learning from the synthetic data."
      ],
      "metadata": {
        "id": "GOg4Ksz7GoTO"
      }
    }
  ]
}