{
  "nbformat": 4,
  "nbformat_minor": 0,
  "metadata": {
    "colab": {
      "provenance": []
    },
    "kernelspec": {
      "name": "python3",
      "display_name": "Python 3"
    },
    "language_info": {
      "name": "python"
    }
  },
  "cells": [
    {
      "cell_type": "markdown",
      "source": [
        "# Step 1: Initial Setup and Layer Definitions"
      ],
      "metadata": {
        "id": "XsLqq0cQfYhi"
      }
    },
    {
      "cell_type": "code",
      "source": [
        "import numpy as np\n",
        "\n",
        "# Setting a random seed for reproducibility\n",
        "np.random.seed(42)\n",
        "\n",
        "# Network architecture parameters\n",
        "input_features = 10  # This can be adjusted based on the actual input features\n",
        "hidden_neurons_layer1 = 64\n",
        "hidden_neurons_layer2 = 32\n",
        "output_features = 1  # For regression, the output is typically a single value\n",
        "\n",
        "# Activation function: ReLU for hidden layers\n",
        "def relu(x):\n",
        "    return np.maximum(0, x)\n",
        "\n",
        "# Derivative of ReLU for backpropagation\n",
        "def relu_derivative(x):\n",
        "    return np.where(x > 0, 1, 0)\n",
        "\n",
        "# Initialize weights and biases\n",
        "# Layer 1\n",
        "W1 = np.random.randn(input_features, hidden_neurons_layer1) * np.sqrt(2. / input_features)\n",
        "b1 = np.zeros((1, hidden_neurons_layer1))\n",
        "\n",
        "# Layer 2\n",
        "W2 = np.random.randn(hidden_neurons_layer1, hidden_neurons_layer2) * np.sqrt(2. / hidden_neurons_layer1)\n",
        "b2 = np.zeros((1, hidden_neurons_layer2))\n",
        "\n",
        "# Output layer\n",
        "W3 = np.random.randn(hidden_neurons_layer2, output_features) * np.sqrt(2. / hidden_neurons_layer2)\n",
        "b3 = np.zeros((1, output_features))\n",
        "\n",
        "# Let's confirm the initialization is correct\n",
        "(W1.shape, b1.shape), (W2.shape, b2.shape), (W3.shape, b3.shape)"
      ],
      "metadata": {
        "colab": {
          "base_uri": "https://localhost:8080/"
        },
        "id": "L4oXjxFmffMZ",
        "outputId": "8662738f-27f3-48fb-ee6b-26d38151f3f2"
      },
      "execution_count": null,
      "outputs": [
        {
          "output_type": "execute_result",
          "data": {
            "text/plain": [
              "(((10, 64), (1, 64)), ((64, 32), (1, 32)), ((32, 1), (1, 1)))"
            ]
          },
          "metadata": {},
          "execution_count": 7
        }
      ]
    },
    {
      "cell_type": "markdown",
      "source": [
        "# Step 2: Forward Pass and Loss Computation"
      ],
      "metadata": {
        "id": "AT2wcElqfmTy"
      }
    },
    {
      "cell_type": "code",
      "source": [
        "# Assuming X_train represents our input features and y_train the true output values for the training data\n",
        "# For demonstration, let's create some dummy data\n",
        "num_samples = 100\n",
        "X_train = np.random.rand(num_samples, input_features)\n",
        "y_train = np.random.rand(num_samples, output_features)  # True values for regression\n",
        "\n",
        "# Forward pass function\n",
        "def forward_pass(X):\n",
        "    # Hidden Layer 1\n",
        "    Z1 = np.dot(X, W1) + b1\n",
        "    A1 = relu(Z1)\n",
        "\n",
        "    # Hidden Layer 2\n",
        "    Z2 = np.dot(A1, W2) + b2\n",
        "    A2 = relu(Z2)\n",
        "\n",
        "    # Output Layer\n",
        "    Z3 = np.dot(A2, W3) + b3\n",
        "    output = Z3  # No activation function for the output layer in regression\n",
        "\n",
        "    return output, Z1, A1, Z2, A2, Z3\n",
        "\n",
        "# Loss function: Mean Squared Error\n",
        "def compute_loss(y_pred, y_true):\n",
        "    loss = np.mean((y_pred - y_true) ** 2)\n",
        "    return loss\n",
        "\n",
        "# Performing a forward pass and computing the loss\n",
        "output, Z1, A1, Z2, A2, Z3 = forward_pass(X_train)\n",
        "loss = compute_loss(output, y_train)\n",
        "\n",
        "loss"
      ],
      "metadata": {
        "colab": {
          "base_uri": "https://localhost:8080/"
        },
        "id": "xlryLjsvfjQz",
        "outputId": "9c58e5eb-b1da-490c-d9ea-9a5df74ac490"
      },
      "execution_count": null,
      "outputs": [
        {
          "output_type": "execute_result",
          "data": {
            "text/plain": [
              "0.1749099225973701"
            ]
          },
          "metadata": {},
          "execution_count": 8
        }
      ]
    },
    {
      "cell_type": "markdown",
      "source": [
        "# Step 3: Backpropagation and Gradient Updates"
      ],
      "metadata": {
        "id": "peR4vy8EftJE"
      }
    },
    {
      "cell_type": "code",
      "source": [
        "# Learning rate\n",
        "learning_rate = 0.01\n",
        "\n",
        "# Backpropagation\n",
        "def backpropagation_corrected(X, y_true, Z1, A1, Z2, A2, Z3, output, W1, b1, W2, b2, W3, b3):\n",
        "    # Output layer to Hidden Layer 2 gradients\n",
        "    dZ3 = output - y_true\n",
        "    dW3 = np.dot(A2.T, dZ3) / num_samples\n",
        "    db3 = np.sum(dZ3, axis=0, keepdims=True) / num_samples\n",
        "\n",
        "    # Hidden Layer 2 to Hidden Layer 1 gradients\n",
        "    dA2 = np.dot(dZ3, W3.T)\n",
        "    dZ2 = dA2 * relu_derivative(Z2)\n",
        "    dW2 = np.dot(A1.T, dZ2) / num_samples\n",
        "    db2 = np.sum(dZ2, axis=0, keepdims=True) / num_samples\n",
        "\n",
        "    # Hidden Layer 1 to Input layer gradients\n",
        "    dA1 = np.dot(dZ2, W2.T)\n",
        "    dZ1 = dA1 * relu_derivative(Z1)\n",
        "    dW1 = np.dot(X.T, dZ1) / num_samples\n",
        "    db1 = np.sum(dZ1, axis=0, keepdims=True) / num_samples\n",
        "\n",
        "    # Update the weights and biases\n",
        "    W1_update = W1 - learning_rate * dW1\n",
        "    b1_update = b1 - learning_rate * db1\n",
        "    W2_update = W2 - learning_rate * dW2\n",
        "    b2_update = b2 - learning_rate * db2\n",
        "    W3_update = W3 - learning_rate * dW3\n",
        "    b3_update = b3 - learning_rate * db3\n",
        "\n",
        "    return W1_update, b1_update, W2_update, b2_update, W3_update, b3_update\n",
        "\n",
        "# Performing backpropagation and updating the weights and biases\n",
        "W1, b1, W2, b2, W3, b3 = backpropagation_corrected(X_train, y_train, Z1, A1, Z2, A2, Z3, output, W1, b1, W2, b2, W3, b3)\n",
        "\n",
        "# Checking if the loss has decreased after one update\n",
        "output_after_update, _, _, _, _, _ = forward_pass(X_train)\n",
        "loss_after_update = compute_loss(output_after_update, y_train)\n",
        "\n",
        "loss, loss_after_update"
      ],
      "metadata": {
        "colab": {
          "base_uri": "https://localhost:8080/"
        },
        "id": "zaL0CAtrfpVK",
        "outputId": "1467ef52-1165-4e68-f108-aa2b34a2ee74"
      },
      "execution_count": null,
      "outputs": [
        {
          "output_type": "execute_result",
          "data": {
            "text/plain": [
              "(0.1749099225973701, 0.171008724135142)"
            ]
          },
          "metadata": {},
          "execution_count": 9
        }
      ]
    },
    {
      "cell_type": "markdown",
      "source": [
        "# Step 4: Training the Model Over Multiple Epochs"
      ],
      "metadata": {
        "id": "iZIm3VlMf2D9"
      }
    },
    {
      "cell_type": "code",
      "source": [
        "# Number of epochs for training\n",
        "epochs = 1000\n",
        "loss_history = []\n",
        "\n",
        "for epoch in range(epochs):\n",
        "    # Forward pass\n",
        "    output, Z1, A1, Z2, A2, Z3 = forward_pass(X_train)\n",
        "    # Compute loss\n",
        "    current_loss = compute_loss(output, y_train)\n",
        "    loss_history.append(current_loss)\n",
        "    # Backpropagation and updating weights and biases\n",
        "    W1, b1, W2, b2, W3, b3 = backpropagation_corrected(X_train, y_train, Z1, A1, Z2, A2, Z3, output, W1, b1, W2, b2, W3, b3)\n",
        "\n",
        "    # Logging\n",
        "    if epoch % 100 == 0:\n",
        "        print(f\"Epoch {epoch}, Loss: {current_loss}\")\n",
        "\n",
        "# Final loss\n",
        "final_loss = loss_history[-1]\n",
        "final_loss"
      ],
      "metadata": {
        "colab": {
          "base_uri": "https://localhost:8080/"
        },
        "id": "EKdjDlZxfz_z",
        "outputId": "4010e6e5-f532-4c76-9fb9-3ce73a07fea7"
      },
      "execution_count": null,
      "outputs": [
        {
          "output_type": "stream",
          "name": "stdout",
          "text": [
            "Epoch 0, Loss: 0.171008724135142\n",
            "Epoch 100, Loss: 0.08912593941907643\n",
            "Epoch 200, Loss: 0.07357108749974584\n",
            "Epoch 300, Loss: 0.0672360357566766\n",
            "Epoch 400, Loss: 0.0635375322085518\n",
            "Epoch 500, Loss: 0.06082679087752405\n",
            "Epoch 600, Loss: 0.058460670337312066\n",
            "Epoch 700, Loss: 0.056437371184612006\n",
            "Epoch 800, Loss: 0.0546208175836735\n",
            "Epoch 900, Loss: 0.052989082681230155\n"
          ]
        },
        {
          "output_type": "execute_result",
          "data": {
            "text/plain": [
              "0.051574636230011614"
            ]
          },
          "metadata": {},
          "execution_count": 10
        }
      ]
    },
    {
      "cell_type": "markdown",
      "source": [
        "# visualize the loss over epochs"
      ],
      "metadata": {
        "id": "x1uYUtJaf8pS"
      }
    },
    {
      "cell_type": "code",
      "source": [
        "import matplotlib.pyplot as plt\n",
        "\n",
        "# Plotting the loss history\n",
        "plt.figure(figsize=(10, 6))\n",
        "plt.plot(loss_history, label='MSE Loss')\n",
        "plt.title('Loss History over Epochs')\n",
        "plt.xlabel('Epoch')\n",
        "plt.ylabel('Loss')\n",
        "plt.legend()\n",
        "plt.grid(True)\n",
        "plt.show()"
      ],
      "metadata": {
        "colab": {
          "base_uri": "https://localhost:8080/",
          "height": 564
        },
        "id": "zMI3mnVjf4Ho",
        "outputId": "3e2606e8-b29c-42c0-aeae-78f195b93331"
      },
      "execution_count": null,
      "outputs": [
        {
          "output_type": "display_data",
          "data": {
            "text/plain": [
              "<Figure size 1000x600 with 1 Axes>"
            ],
            "image/png": "[encoded data removed]"
          },
          "metadata": {}
        }
      ]
    }
  ]
}